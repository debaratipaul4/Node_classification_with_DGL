{
  "nbformat": 4,
  "nbformat_minor": 0,
  "metadata": {
    "colab": {
      "provenance": []
    },
    "kernelspec": {
      "name": "python3",
      "display_name": "Python 3"
    },
    "language_info": {
      "name": "python"
    }
  },
  "cells": [
    {
      "cell_type": "code",
      "execution_count": null,
      "metadata": {
        "id": "1ApwBSUtB1hP"
      },
      "outputs": [],
      "source": [
        "import dgl\n",
        "import torch\n",
        "import torch.nn as nn\n",
        "import torch.nn.functional as F"
      ]
    },
    {
      "cell_type": "code",
      "source": [
        "import dgl.data\n",
        "dataset = dgl.data.CoraGraphDataset()\n",
        "print(\"Number of categories :\" , dataset.num_classes)\n"
      ],
      "metadata": {
        "colab": {
          "base_uri": "https://localhost:8080/"
        },
        "id": "2XSRLgbFDOBy",
        "outputId": "d2ed7b24-a008-420c-9b0e-6f006741c5f8"
      },
      "execution_count": null,
      "outputs": [
        {
          "output_type": "stream",
          "name": "stdout",
          "text": [
            "  NumNodes: 2708\n",
            "  NumEdges: 10556\n",
            "  NumFeats: 1433\n",
            "  NumClasses: 7\n",
            "  NumTrainingSamples: 140\n",
            "  NumValidationSamples: 500\n",
            "  NumTestSamples: 1000\n",
            "Done loading data from cached files.\n",
            "Number of categories : 7\n"
          ]
        }
      ]
    },
    {
      "cell_type": "code",
      "source": [
        "g = dataset[0]  #The Cora dataset used here consists only of one single graph."
      ],
      "metadata": {
        "id": "FmOUV8oaGsqq"
      },
      "execution_count": null,
      "outputs": []
    },
    {
      "cell_type": "code",
      "source": [
        "print('Node features')\n",
        "print(g.ndata)\n",
        "print('Edge features')\n",
        "print(g.edata)"
      ],
      "metadata": {
        "colab": {
          "base_uri": "https://localhost:8080/"
        },
        "id": "hAj_8dPGHEml",
        "outputId": "d8cd20e7-7469-4990-9d1a-94d7f38c547e"
      },
      "execution_count": null,
      "outputs": [
        {
          "output_type": "stream",
          "name": "stdout",
          "text": [
            "Node features\n",
            "{'feat': tensor([[0., 0., 0.,  ..., 0., 0., 0.],\n",
            "        [0., 0., 0.,  ..., 0., 0., 0.],\n",
            "        [0., 0., 0.,  ..., 0., 0., 0.],\n",
            "        ...,\n",
            "        [0., 0., 0.,  ..., 0., 0., 0.],\n",
            "        [0., 0., 0.,  ..., 0., 0., 0.],\n",
            "        [0., 0., 0.,  ..., 0., 0., 0.]]), 'label': tensor([3, 4, 4,  ..., 3, 3, 3]), 'test_mask': tensor([False, False, False,  ...,  True,  True,  True]), 'val_mask': tensor([False, False, False,  ..., False, False, False]), 'train_mask': tensor([ True,  True,  True,  ..., False, False, False])}\n",
            "Edge features\n",
            "{}\n"
          ]
        }
      ]
    },
    {
      "cell_type": "markdown",
      "source": [
        "This tutorial will build a two-layer Graph Convolutional Network (GCN). Each layer computes new node representations by aggregating neighbour information."
      ],
      "metadata": {
        "id": "_TXSsdFlHNLv"
      }
    },
    {
      "cell_type": "code",
      "source": [
        "from dgl.nn import GraphConv\n",
        "\n",
        "class GCN(nn.Module):\n",
        "    def __init__(self, in_feats, h_feats, num_classes):\n",
        "        super(GCN, self).__init__()\n",
        "        self.conv1 = GraphConv(in_feats, h_feats)\n",
        "        self.conv2 = GraphConv(h_feats, num_classes)\n",
        "\n",
        "    def forward(self, g, in_feat):\n",
        "        h = self.conv1(g, in_feat)\n",
        "        h = F.relu(h)\n",
        "        h = self.conv2(g, h)\n",
        "        return h\n",
        "\n",
        "# Create the model with given dimensions\n",
        "model = GCN(g.ndata['feat'].shape[1], 16, dataset.num_classes)"
      ],
      "metadata": {
        "id": "Nlx5B1hjHVre"
      },
      "execution_count": null,
      "outputs": []
    },
    {
      "cell_type": "markdown",
      "source": [
        "Training the GCN"
      ],
      "metadata": {
        "id": "85FN2MPzH5ZC"
      }
    },
    {
      "cell_type": "code",
      "source": [
        "def train(g, model):\n",
        "    optimizer = torch.optim.Adam(model.parameters(), lr=0.01)\n",
        "    best_val_acc = 0\n",
        "    best_test_acc = 0\n",
        "\n",
        "    features = g.ndata['feat']\n",
        "    labels = g.ndata['label']\n",
        "    train_mask = g.ndata['train_mask']\n",
        "    val_mask = g.ndata['val_mask']\n",
        "    test_mask = g.ndata['test_mask']\n",
        "    for e in range(100):\n",
        "        # Forward\n",
        "        logits = model(g, features)\n",
        "\n",
        "        # Compute prediction\n",
        "        pred = logits.argmax(1)\n",
        "\n",
        "        # Compute loss\n",
        "        # Note that you should only compute the losses of the nodes in the training set.\n",
        "        loss = F.cross_entropy(logits[train_mask], labels[train_mask])\n",
        "\n",
        "        # Compute accuracy on training/validation/test\n",
        "        train_acc = (pred[train_mask] == labels[train_mask]).float().mean()\n",
        "        val_acc = (pred[val_mask] == labels[val_mask]).float().mean()\n",
        "        test_acc = (pred[test_mask] == labels[test_mask]).float().mean()\n",
        "\n",
        "        # Save the best validation accuracy and the corresponding test accuracy.\n",
        "        if best_val_acc < val_acc:\n",
        "            best_val_acc = val_acc\n",
        "            best_test_acc = test_acc\n",
        "\n",
        "        # Backward\n",
        "        optimizer.zero_grad()\n",
        "        loss.backward()\n",
        "        optimizer.step()\n",
        "\n",
        "        if e % 5 == 0:\n",
        "            print('In epoch {}, loss: {:.3f}, val acc: {:.3f} (best {:.3f}), test acc: {:.3f} (best {:.3f})'.format(\n",
        "                e, loss, val_acc, best_val_acc, test_acc, best_test_acc))\n",
        "model = GCN(g.ndata['feat'].shape[1], 16, dataset.num_classes)\n",
        "train(g, model)"
      ],
      "metadata": {
        "colab": {
          "base_uri": "https://localhost:8080/"
        },
        "id": "dQRBUku4H-aT",
        "outputId": "2f56ca2a-7a34-4d1a-cf9c-292e3516ef06"
      },
      "execution_count": null,
      "outputs": [
        {
          "output_type": "stream",
          "name": "stderr",
          "text": [
            "/usr/local/lib/python3.10/dist-packages/dgl/backend/pytorch/tensor.py:449: UserWarning: TypedStorage is deprecated. It will be removed in the future and UntypedStorage will be the only storage class. This should only matter to you if you are using storages directly.  To access UntypedStorage directly, use tensor.untyped_storage() instead of tensor.storage()\n",
            "  assert input.numel() == input.storage().size(), (\n"
          ]
        },
        {
          "output_type": "stream",
          "name": "stdout",
          "text": [
            "In epoch 0, loss: 1.946, val acc: 0.110 (best 0.110), test acc: 0.119 (best 0.119)\n",
            "In epoch 5, loss: 1.894, val acc: 0.552 (best 0.576), test acc: 0.577 (best 0.577)\n",
            "In epoch 10, loss: 1.816, val acc: 0.484 (best 0.576), test acc: 0.494 (best 0.577)\n",
            "In epoch 15, loss: 1.717, val acc: 0.552 (best 0.576), test acc: 0.566 (best 0.577)\n",
            "In epoch 20, loss: 1.595, val acc: 0.628 (best 0.628), test acc: 0.653 (best 0.653)\n",
            "In epoch 25, loss: 1.454, val acc: 0.672 (best 0.672), test acc: 0.699 (best 0.699)\n",
            "In epoch 30, loss: 1.299, val acc: 0.678 (best 0.680), test acc: 0.713 (best 0.713)\n",
            "In epoch 35, loss: 1.137, val acc: 0.692 (best 0.696), test acc: 0.728 (best 0.721)\n",
            "In epoch 40, loss: 0.974, val acc: 0.722 (best 0.722), test acc: 0.738 (best 0.738)\n",
            "In epoch 45, loss: 0.818, val acc: 0.732 (best 0.732), test acc: 0.746 (best 0.746)\n",
            "In epoch 50, loss: 0.676, val acc: 0.738 (best 0.738), test acc: 0.746 (best 0.746)\n",
            "In epoch 55, loss: 0.551, val acc: 0.742 (best 0.742), test acc: 0.755 (best 0.755)\n",
            "In epoch 60, loss: 0.447, val acc: 0.752 (best 0.752), test acc: 0.763 (best 0.763)\n",
            "In epoch 65, loss: 0.361, val acc: 0.756 (best 0.756), test acc: 0.764 (best 0.763)\n",
            "In epoch 70, loss: 0.293, val acc: 0.758 (best 0.758), test acc: 0.768 (best 0.767)\n",
            "In epoch 75, loss: 0.239, val acc: 0.758 (best 0.758), test acc: 0.769 (best 0.767)\n",
            "In epoch 80, loss: 0.196, val acc: 0.762 (best 0.764), test acc: 0.768 (best 0.771)\n",
            "In epoch 85, loss: 0.163, val acc: 0.764 (best 0.764), test acc: 0.767 (best 0.771)\n",
            "In epoch 90, loss: 0.136, val acc: 0.764 (best 0.764), test acc: 0.764 (best 0.771)\n",
            "In epoch 95, loss: 0.115, val acc: 0.760 (best 0.764), test acc: 0.767 (best 0.771)\n"
          ]
        }
      ]
    }
  ]
}